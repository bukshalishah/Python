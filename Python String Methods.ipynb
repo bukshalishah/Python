{
 "cells": [
  {
   "cell_type": "markdown",
   "metadata": {},
   "source": [
    "# String Methods"
   ]
  },
  {
   "cell_type": "markdown",
   "metadata": {},
   "source": [
    "## .capitalize"
   ]
  },
  {
   "cell_type": "markdown",
   "metadata": {},
   "source": [
    "The capitalize() method does exactly what it says – it creates a new string filled with characters taken from the source string, but it tries to modify them in the following way:\n",
    "\n",
    "if the first character inside the string is a letter (note: the first character is an element with an index equal to 0, not just the first visible character), it will be converted to upper-case;\n",
    "all remaining letters from the string will be converted to lower-case.\n",
    "\n",
    "Note: methods don’t have to be invoked from within variables only. They can be invoked directly from within string literals. We’re going to use that convention regularly – it will simplify the examples, as the most important aspects will not disappear among unnecessary assignments."
   ]
  },
  {
   "cell_type": "code",
   "execution_count": 1,
   "metadata": {},
   "outputs": [
    {
     "name": "stdout",
     "output_type": "stream",
     "text": [
      "Abcd\n"
     ]
    }
   ],
   "source": [
    "# capitalize\n",
    "\n",
    "print('aBcD'.capitalize())"
   ]
  },
  {
   "cell_type": "code",
   "execution_count": 2,
   "metadata": {},
   "outputs": [
    {
     "name": "stdout",
     "output_type": "stream",
     "text": [
      "Alpha\n",
      "Alpha\n",
      " alpha\n",
      "123\n"
     ]
    }
   ],
   "source": [
    "print('Alpha'.capitalize())\n",
    "print('ALPHA'.capitalize())\n",
    "print(' Alpha'.capitalize())\n",
    "print(\"123\".capitalize())"
   ]
  },
  {
   "cell_type": "markdown",
   "metadata": {},
   "source": [
    "## .center"
   ]
  },
  {
   "cell_type": "markdown",
   "metadata": {},
   "source": [
    "The one-parameter variant of the center() method makes a copy of the original string, trying to center it inside a field of a specified width. The centering is actually done by adding some spaces before and after the string.\n",
    "\n",
    "Don’t expect this method to demonstrate any sophisticated skills. It’s rather simple."
   ]
  },
  {
   "cell_type": "code",
   "execution_count": 3,
   "metadata": {},
   "outputs": [
    {
     "name": "stdout",
     "output_type": "stream",
     "text": [
      "[  alpha   ]\n",
      "[       alpha        ]\n",
      "[            alpha             ]\n",
      "[********beta********]\n"
     ]
    }
   ],
   "source": [
    "# .center(arg1, arg2)\n",
    "\n",
    "print('[' + 'alpha'.center(10) + ']')\n",
    "print('[' + 'alpha'.center(20) + ']')\n",
    "print('[' + 'alpha'.center(30) + ']')\n",
    "\n",
    "# The two-parameter variant of center() makes use of the character from the second argument, instead of a space \n",
    "\n",
    "print('[' + 'beta'.center(20,'*') + ']')"
   ]
  },
  {
   "cell_type": "markdown",
   "metadata": {},
   "source": [
    "## .endswith"
   ]
  },
  {
   "cell_type": "markdown",
   "metadata": {},
   "source": [
    "The endswith() method checks if the given string ends with the specified argument and returns True or False, depending of the check result.\n",
    "\n",
    "\n",
    "Note: the substring must adhere to the string’s last character – it cannot just be located somewhere near the end of the string."
   ]
  },
  {
   "cell_type": "code",
   "execution_count": 4,
   "metadata": {},
   "outputs": [
    {
     "name": "stdout",
     "output_type": "stream",
     "text": [
      "yes\n",
      "True\n",
      "False\n",
      "True\n"
     ]
    }
   ],
   "source": [
    "if 'epsilon'.endswith('on'):\n",
    "    print('yes')\n",
    "else:\n",
    "    print('no')\n",
    "    \n",
    "t = 'zeta'\n",
    "print(t.endswith('a'))\n",
    "print(t.endswith('A'))\n",
    "print(t.endswith('ta'))"
   ]
  },
  {
   "cell_type": "markdown",
   "metadata": {},
   "source": [
    "## .find"
   ]
  },
  {
   "cell_type": "markdown",
   "metadata": {},
   "source": [
    "The find() method is similar to index(), which you already know (it looks for a substring), but:\n",
    "\n",
    "it’s safer – it doesn’t generate an error for an argument containing a non-existent substring (it returns -1 then)\n",
    "\n",
    "it works with strings only – don’t try to apply it to any other sequence.\n",
    "\n",
    "Note: don’t use find() if you only want to check if a single character occurs within a string – the in operator will be significantly faster."
   ]
  },
  {
   "cell_type": "code",
   "execution_count": 5,
   "metadata": {},
   "outputs": [
    {
     "name": "stdout",
     "output_type": "stream",
     "text": [
      "1\n",
      "4\n",
      "2\n",
      "1\n",
      "4\n",
      "146\n",
      "170\n",
      "194\n",
      "216\n",
      "227\n",
      "475\n",
      "-1\n"
     ]
    }
   ],
   "source": [
    "print('Eta'.find('ta'))\n",
    "t = 'theta'\n",
    "print(t.find('a'))\n",
    "print(t.find('et'))\n",
    "\n",
    "# If you want to perform the find, not from the string’s beginning,\n",
    "# but from any position, you can use a two-parameter variant of the find() method\n",
    "\n",
    "# The second argument specifies the index at which the search will be started\n",
    "# (it doesn’t have to fit inside the string).\n",
    "\n",
    "print('kappa'.find('a',1))\n",
    "print('kappa'.find('a',2))\n",
    "\n",
    "text = '''But I must explain to you how all this mistaken idea of denouncing pleasure and praising \n",
    "pain was born and I will give you a complete account of the system,\n",
    "and expound the actual teachings of the great explorer of the truth,\n",
    "the master-builder of human happiness. No one rejects, dislikes,\n",
    "or avoids pleasure itself, because it is pleasure,\n",
    "but because those who do not know how to pursue pleasure rationally encounter consequences that\n",
    "are extremely painful. Nor again is there anyone who loves or pursues or desires to obtain pain \n",
    "of itself, because it is pain, but because occasionally circumstances occur in which toil and pain\n",
    "can procure him some great pleasure. To take a trivial example, which of us ever undertakes laborious\n",
    "physical exercise, except to obtain some advantage from it? But who has any right to find fault with a \n",
    "man who chooses to enjoy a pleasure that has no annoying consequences, or one who avoids a pain that \n",
    "produces no resultant pleasure?'''\n",
    "\n",
    "\n",
    "fnd = text.find('the')\n",
    "while fnd != -1:\n",
    "    print(fnd)\n",
    "    fnd = text.find('the', fnd+1)\n",
    "    \n",
    "\n",
    "# There is also a three-parameter mutation of the find() method –\n",
    "# the third argument points to the first index which won’t be taken into consideration during the search\n",
    "# (it’s actually the upper limit of the search)\n",
    "\n",
    "# The second argument specifies the index at which the search will be started \n",
    "# (it doesn’t have to fit inside the string).    \n",
    "    \n",
    "    \n",
    "print('kappa'.find('a', 2, 4))"
   ]
  },
  {
   "cell_type": "markdown",
   "metadata": {},
   "source": [
    "## .isalnum"
   ]
  },
  {
   "cell_type": "markdown",
   "metadata": {},
   "source": [
    "The parameterless method named isalnum() checks if the string contains only digits or alphabetical characters (letters), and returns True/False\n",
    "\n",
    "Note: any string element that is not a digit or a letter causes the method to return False. An empty string does, too.\n",
    "\n"
   ]
  },
  {
   "cell_type": "code",
   "execution_count": 6,
   "metadata": {},
   "outputs": [
    {
     "name": "stdout",
     "output_type": "stream",
     "text": [
      "True\n"
     ]
    }
   ],
   "source": [
    "print('lambda30'.isalnum())"
   ]
  },
  {
   "cell_type": "markdown",
   "metadata": {},
   "source": [
    "## .isalpha"
   ]
  },
  {
   "cell_type": "markdown",
   "metadata": {},
   "source": [
    "The isalnum() method is more specialized – it’s interested in letters only"
   ]
  },
  {
   "cell_type": "code",
   "execution_count": 7,
   "metadata": {},
   "outputs": [
    {
     "name": "stdout",
     "output_type": "stream",
     "text": [
      "False\n",
      "True\n"
     ]
    }
   ],
   "source": [
    "print('Mu40'.isalpha())\n",
    "print('Mu'.isalpha())"
   ]
  },
  {
   "cell_type": "markdown",
   "metadata": {},
   "source": [
    "## .isdigit"
   ]
  },
  {
   "cell_type": "markdown",
   "metadata": {},
   "source": [
    "In turn, the isdigit() method looks at digits only – anything else produces False as the result."
   ]
  },
  {
   "cell_type": "code",
   "execution_count": 8,
   "metadata": {},
   "outputs": [
    {
     "name": "stdout",
     "output_type": "stream",
     "text": [
      "True\n"
     ]
    }
   ],
   "source": [
    "print('2019'.isdigit())"
   ]
  },
  {
   "cell_type": "markdown",
   "metadata": {},
   "source": [
    "## .islower"
   ]
  },
  {
   "cell_type": "markdown",
   "metadata": {},
   "source": [
    "The islower() method is a fussy variant of isalpha() – it accepts lower-case letters only."
   ]
  },
  {
   "cell_type": "code",
   "execution_count": 9,
   "metadata": {},
   "outputs": [
    {
     "name": "stdout",
     "output_type": "stream",
     "text": [
      "True\n",
      "False\n",
      "False\n",
      "False\n"
     ]
    }
   ],
   "source": [
    "print('nu'.islower())\n",
    "print('NU'.islower())\n",
    "print('nU'.islower())\n",
    "print('Nu'.islower())"
   ]
  },
  {
   "cell_type": "markdown",
   "metadata": {},
   "source": [
    "## .isspace"
   ]
  },
  {
   "cell_type": "markdown",
   "metadata": {},
   "source": [
    "The isspace() method identifies whitespaces only – it disregards any other character (the result is False then)"
   ]
  },
  {
   "cell_type": "code",
   "execution_count": 10,
   "metadata": {},
   "outputs": [
    {
     "name": "stdout",
     "output_type": "stream",
     "text": [
      "True\n",
      "True\n",
      "False\n"
     ]
    }
   ],
   "source": [
    "print(' '.isspace())\n",
    "print('\\n'.isspace())\n",
    "print('Hello python'.isspace())"
   ]
  },
  {
   "cell_type": "markdown",
   "metadata": {},
   "source": [
    "## .isupper"
   ]
  },
  {
   "cell_type": "markdown",
   "metadata": {},
   "source": [
    "The isupper() is the upper-case version of islower() – it concentrates on upper-case letters only."
   ]
  },
  {
   "cell_type": "code",
   "execution_count": 11,
   "metadata": {},
   "outputs": [
    {
     "name": "stdout",
     "output_type": "stream",
     "text": [
      "False\n",
      "True\n"
     ]
    }
   ],
   "source": [
    "print('Ui'.isupper())\n",
    "print('UI'.isupper())"
   ]
  },
  {
   "cell_type": "markdown",
   "metadata": {},
   "source": [
    "## .join"
   ]
  },
  {
   "cell_type": "markdown",
   "metadata": {},
   "source": [
    "The join() method is rather complicated, so let us guide you step by step thorough it:\n",
    "\n",
    "as its name suggests, the method performs a join – it expects one argument as a list; it must be assured that all the list’s elements are strings – the method will raise a TypeError exception otherwise;\n",
    "all the list’s elements will be joined into one string but . . .\n",
    ". . . the string from which the method has been invoked is used as a separator, put among the strings;\n",
    "the newly created string is returned as a result.\n",
    "Take a look at the example:\n",
    "\n",
    "the join() method is invoked from within a string containing a comma (the string can be arbitrarily long, or it can be empty)\n",
    "the join’s argument is a list containing three strings;\n",
    "the method returns a new string.\n"
   ]
  },
  {
   "cell_type": "code",
   "execution_count": 12,
   "metadata": {},
   "outputs": [
    {
     "name": "stdout",
     "output_type": "stream",
     "text": [
      "john,doe\n",
      "john...doe\n"
     ]
    }
   ],
   "source": [
    "print(','.join(['john', 'doe']))\n",
    "print('...'.join(['john','doe']))"
   ]
  },
  {
   "cell_type": "markdown",
   "metadata": {},
   "source": [
    "## .lower"
   ]
  },
  {
   "cell_type": "markdown",
   "metadata": {},
   "source": [
    "The lower() method makes a copy of a source string, replaces all upper-case letters with their lower-case counterparts, and returns the string as the result. Again, the source string remains untouched."
   ]
  },
  {
   "cell_type": "code",
   "execution_count": 13,
   "metadata": {},
   "outputs": [
    {
     "name": "stdout",
     "output_type": "stream",
     "text": [
      "sigma=60\n"
     ]
    }
   ],
   "source": [
    "print('sIgMa=60'.lower())"
   ]
  },
  {
   "cell_type": "markdown",
   "metadata": {},
   "source": [
    "## .lstrip"
   ]
  },
  {
   "cell_type": "markdown",
   "metadata": {},
   "source": [
    "The parameterless lstrip() method returns a newly created string formed from the original one by removing all leading whitespaces.\n",
    "\n",
    "Analyze the example\n",
    "\n",
    "The brackets are not a part of the result – they only show the result’s boundaries."
   ]
  },
  {
   "cell_type": "code",
   "execution_count": 14,
   "metadata": {},
   "outputs": [
    {
     "name": "stdout",
     "output_type": "stream",
     "text": [
      "[tau]\n",
      "cisco.com\n"
     ]
    }
   ],
   "source": [
    "print('[' + 'tau'.lstrip() + ']')\n",
    "\n",
    "# The one-parameterlstrip() method does the same as its parameterless version,\n",
    "# but removes all characters enlisted in its argument (a string), not just whitespaces →\n",
    "\n",
    "# Brackets aren’t needed here, as the output looks as follows:\n",
    "\n",
    "print('www.cisco.com'.lstrip('w.'))"
   ]
  },
  {
   "cell_type": "markdown",
   "metadata": {},
   "source": [
    "## .replace"
   ]
  },
  {
   "cell_type": "markdown",
   "metadata": {},
   "source": [
    "The two-parameter method replace() returns a copy of the original string in which all occurrences  of the first argument have been replaced by the second argument →\n",
    "\n",
    "The second argument can be an empty string (replacing is actually removing, then), but the first cannot be."
   ]
  },
  {
   "cell_type": "code",
   "execution_count": 15,
   "metadata": {},
   "outputs": [
    {
     "name": "stdout",
     "output_type": "stream",
     "text": [
      "thare are it\n",
      "thare is it\n"
     ]
    }
   ],
   "source": [
    "print('this is it'.replace('is','are'))\n",
    "\n",
    "# The three-parameter replace() variant uses the third argument (a number) to limit the number of replacements\n",
    "\n",
    "print('this is it'.replace('is','are',1))"
   ]
  },
  {
   "cell_type": "markdown",
   "metadata": {},
   "source": [
    "## .rfind"
   ]
  },
  {
   "cell_type": "markdown",
   "metadata": {},
   "source": [
    "The one-, two-, and three-parameter methods named rfind() do nearly the same things as their counterparts (the ones devoid of the r prefix), but start their searches from the end of the string, not the beginning (hence the prefix r, for right)."
   ]
  },
  {
   "cell_type": "code",
   "execution_count": 16,
   "metadata": {},
   "outputs": [
    {
     "name": "stdout",
     "output_type": "stream",
     "text": [
      "8\n",
      "-1\n",
      "4\n",
      "[upsilon]\n",
      "www.cisco.co\n"
     ]
    }
   ],
   "source": [
    "print('tau tau tau'.rfind('ta'))\n",
    "print('tau tau tau'.rfind('ta',9))\n",
    "print('tau tau tau'.rfind('ta',3,9))\n",
    "\n",
    "# Two variants of the rstrip() method do nearly the same as lstrips,\n",
    "# but affect the opposite side of the string.\n",
    "\n",
    "print('[' + 'upsilon'.rstrip() + ']')\n",
    "print('www.cisco.com'.rstrip('m'))"
   ]
  },
  {
   "cell_type": "markdown",
   "metadata": {},
   "source": [
    "## .split"
   ]
  },
  {
   "cell_type": "markdown",
   "metadata": {},
   "source": [
    "The split() method does what it says – it splits the string and builds a list of all detected substrings. The method assumes that the substrings are delimited by whitespaces – the spaces don’t take part in the operation, and aren’t copied into the resulting list.\n",
    "\n",
    "If the string is empty, the resulting list is empty too\n",
    "\n",
    "Note: the reverse operation can be performed by the join() method"
   ]
  },
  {
   "cell_type": "code",
   "execution_count": 17,
   "metadata": {},
   "outputs": [
    {
     "name": "stdout",
     "output_type": "stream",
     "text": [
      "['phi', 'chi', 'psi']\n"
     ]
    }
   ],
   "source": [
    "print('phi  chi\\npsi'.split())"
   ]
  },
  {
   "cell_type": "markdown",
   "metadata": {},
   "source": [
    "## .startswith"
   ]
  },
  {
   "cell_type": "markdown",
   "metadata": {},
   "source": [
    "The startswith() method is a mirror reflection of endswith() ­– it checks if a given string starts with the specified substring."
   ]
  },
  {
   "cell_type": "code",
   "execution_count": 18,
   "metadata": {},
   "outputs": [
    {
     "name": "stdout",
     "output_type": "stream",
     "text": [
      "True\n",
      "False\n",
      "True\n"
     ]
    }
   ],
   "source": [
    "print('python'.startswith('py'))\n",
    "print('python'.startswith('on'))\n",
    "print('python'.startswith('p'))"
   ]
  },
  {
   "cell_type": "markdown",
   "metadata": {},
   "source": [
    "## .strip"
   ]
  },
  {
   "cell_type": "markdown",
   "metadata": {},
   "source": [
    "The strip() method combines the effects caused by rstrip() and lstrip() – it makes a new string lacking all the leading and trailing whitespaces."
   ]
  },
  {
   "cell_type": "code",
   "execution_count": 19,
   "metadata": {},
   "outputs": [
    {
     "name": "stdout",
     "output_type": "stream",
     "text": [
      "[python]\n"
     ]
    }
   ],
   "source": [
    "print('[' + 'python'.strip() + ']')"
   ]
  },
  {
   "cell_type": "markdown",
   "metadata": {},
   "source": [
    "## .swapcase"
   ]
  },
  {
   "cell_type": "markdown",
   "metadata": {},
   "source": [
    "The swapcase() method makes a new string by swapping the case of all letters within the source string: lower-case characters become upper-case, and vice versa.\n",
    "\n",
    "All other characters remain untouched."
   ]
  },
  {
   "cell_type": "code",
   "execution_count": 20,
   "metadata": {},
   "outputs": [
    {
     "name": "stdout",
     "output_type": "stream",
     "text": [
      "pYTHON iS a pROGRAMMING lANGUAGE\n"
     ]
    }
   ],
   "source": [
    "print('Python Is A Programming Language'.swapcase())"
   ]
  },
  {
   "cell_type": "markdown",
   "metadata": {},
   "source": [
    "## .title"
   ]
  },
  {
   "cell_type": "markdown",
   "metadata": {},
   "source": [
    "The title() method performs a somewhat similar function – it changes every word’s first letter to upper-case, turning all other ones to lower-case."
   ]
  },
  {
   "cell_type": "code",
   "execution_count": 21,
   "metadata": {},
   "outputs": [
    {
     "name": "stdout",
     "output_type": "stream",
     "text": [
      "Python Is A Programming Language\n"
     ]
    }
   ],
   "source": [
    "print('Python Is A Programming Language'.title())"
   ]
  },
  {
   "cell_type": "markdown",
   "metadata": {},
   "source": [
    "## .upper"
   ]
  },
  {
   "cell_type": "markdown",
   "metadata": {},
   "source": [
    "he upper() method makes a copy of the source string, replaces all lower-case letters with their upper-case counterparts, and returns the string as the result."
   ]
  },
  {
   "cell_type": "code",
   "execution_count": 22,
   "metadata": {},
   "outputs": [
    {
     "name": "stdout",
     "output_type": "stream",
     "text": [
      "SIGMA=60\n"
     ]
    }
   ],
   "source": [
    "print('siGmA=60'.upper())"
   ]
  },
  {
   "cell_type": "code",
   "execution_count": null,
   "metadata": {},
   "outputs": [],
   "source": []
  }
 ],
 "metadata": {
  "kernelspec": {
   "display_name": "Python 3",
   "language": "python",
   "name": "python3"
  },
  "language_info": {
   "codemirror_mode": {
    "name": "ipython",
    "version": 3
   },
   "file_extension": ".py",
   "mimetype": "text/x-python",
   "name": "python",
   "nbconvert_exporter": "python",
   "pygments_lexer": "ipython3",
   "version": "3.7.1"
  }
 },
 "nbformat": 4,
 "nbformat_minor": 2
}
